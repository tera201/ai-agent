{
 "cells": [
  {
   "cell_type": "code",
   "execution_count": 4,
   "metadata": {},
   "outputs": [
    {
     "name": "stderr",
     "output_type": "stream",
     "text": [
      "Using Theano backend.\n",
      "Can not use cuDNN on context None: cannot compile with cuDNN. We got this error:\n",
      "b'C:\\\\Users\\\\tera2\\\\AppData\\\\Local\\\\Temp\\\\try_flags_f9qy_myb.c:4:19: fatal error: cudnn.h: No such file or directory\\r\\ncompilation terminated.\\r\\n'\n",
      "Preallocating 716/1024 Mb (0.700000) on cuda0\n",
      "Mapped name None to device cuda0: GeForce GTX 460 (0000:01:00.0)\n"
     ]
    }
   ],
   "source": [
    "import gym\n",
    "import random\n",
    "import numpy as np\n",
    "from keras.models     import Sequential\n",
    "from keras.layers     import Dense\n",
    "from keras.optimizers import Adam"
   ]
  },
  {
   "cell_type": "code",
   "execution_count": 5,
   "metadata": {},
   "outputs": [],
   "source": [
    "env = gym.make('MountainCar-v0')\n",
    "env.reset()\n",
    "goal_steps = 200\n",
    "score_requirement = -198\n",
    "intial_games = 10000"
   ]
  },
  {
   "cell_type": "code",
   "execution_count": 6,
   "metadata": {},
   "outputs": [],
   "source": [
    "def random_game():\n",
    "    for step_index in range(goal_steps):\n",
    "#         env.render()\n",
    "        action = env.action_space.sample()\n",
    "        observation, reward, done, info = env.step(action)\n",
    "        print(\"Step {}:\".format(step_index))\n",
    "        print(\"action: {}\".format(action))\n",
    "        print(\"observation: {}\".format(observation))\n",
    "        print(\"reward: {}\".format(reward))\n",
    "        print(\"done: {}\".format(done))\n",
    "        print(\"info: {}\".format(info))\n",
    "        if done:\n",
    "            break\n",
    "    env.reset()"
   ]
  },
  {
   "cell_type": "code",
   "execution_count": null,
   "metadata": {},
   "outputs": [],
   "source": [
    "random_game()"
   ]
  },
  {
   "cell_type": "code",
   "execution_count": 8,
   "metadata": {},
   "outputs": [],
   "source": [
    "\n",
    "def model_data_preparation():\n",
    "    training_data = []\n",
    "    accepted_scores = []\n",
    "    for game_index in range(intial_games):\n",
    "        score = 0\n",
    "        game_memory = []\n",
    "        previous_observation = []\n",
    "        for step_index in range(goal_steps):\n",
    "            action = random.randrange(0, 3)\n",
    "            observation, reward, done, info = env.step(action)\n",
    "            \n",
    "            if len(previous_observation) > 0:\n",
    "                game_memory.append([previous_observation, action])\n",
    "                \n",
    "            previous_observation = observation\n",
    "            if observation[0] > -0.25:\n",
    "                reward = 1\n",
    "            \n",
    "            score += reward\n",
    "            if done:\n",
    "                break\n",
    "            \n",
    "        if score >= score_requirement:\n",
    "            accepted_scores.append(score)\n",
    "            for data in game_memory:\n",
    "                if data[1] == 1:\n",
    "                    output = [0, 1, 0]\n",
    "                elif data[1] == 0:\n",
    "                    output = [1, 0, 0]\n",
    "                elif data[1] == 2:\n",
    "                    output = [0, 0, 1]\n",
    "                training_data.append([data[0], output])\n",
    "        \n",
    "        env.reset()\n",
    "    \n",
    "    print(accepted_scores)\n",
    "    \n",
    "    return training_data"
   ]
  },
  {
   "cell_type": "code",
   "execution_count": 9,
   "metadata": {},
   "outputs": [
    {
     "name": "stdout",
     "output_type": "stream",
     "text": [
      "[-172.0, -172.0, -198.0, -170.0, -188.0, -154.0, -198.0, -168.0, -184.0, -180.0, -184.0, -186.0, -168.0, -186.0, -182.0, -190.0, -186.0, -182.0, -172.0, -180.0, -192.0, -198.0, -180.0, -182.0, -176.0, -194.0, -178.0, -194.0, -186.0, -194.0, -188.0, -178.0, -154.0, -178.0, -180.0, -194.0, -188.0, -178.0, -188.0, -174.0, -186.0, -194.0, -178.0, -158.0, -190.0, -168.0, -172.0, -184.0, -174.0, -188.0, -168.0, -184.0, -192.0, -180.0, -176.0, -168.0, -194.0, -176.0, -170.0, -166.0, -182.0, -184.0, -184.0, -182.0, -174.0, -172.0, -186.0, -192.0, -182.0, -184.0, -176.0, -180.0, -182.0, -192.0, -184.0, -178.0, -184.0, -178.0, -170.0, -186.0, -190.0, -172.0, -166.0, -174.0, -172.0, -186.0, -184.0, -174.0, -178.0, -182.0, -198.0, -184.0, -178.0, -172.0, -176.0, -132.0, -194.0, -190.0, -184.0, -170.0, -186.0, -186.0, -184.0, -176.0, -186.0, -170.0, -194.0, -180.0, -176.0, -194.0, -184.0, -166.0, -190.0, -168.0, -192.0, -168.0, -176.0, -174.0, -168.0, -182.0, -158.0, -184.0, -184.0, -164.0, -184.0, -168.0, -184.0, -174.0, -178.0, -176.0, -170.0, -196.0, -192.0, -180.0, -198.0, -168.0, -174.0, -192.0, -174.0, -170.0, -178.0, -190.0, -174.0, -184.0, -184.0, -156.0, -184.0, -176.0, -180.0, -178.0, -190.0, -176.0, -170.0, -164.0, -194.0, -174.0, -190.0, -170.0, -198.0, -190.0, -186.0, -182.0, -174.0, -192.0, -170.0, -196.0, -190.0, -194.0, -172.0, -196.0, -192.0, -190.0, -154.0, -192.0, -196.0, -170.0, -176.0, -170.0, -186.0, -156.0, -184.0, -132.0, -184.0, -166.0, -174.0, -182.0, -188.0, -182.0, -190.0, -188.0, -182.0, -188.0, -194.0, -174.0, -176.0, -160.0, -188.0, -186.0, -196.0, -174.0, -196.0, -146.0, -146.0, -176.0, -172.0, -154.0, -174.0, -182.0, -178.0, -188.0, -190.0, -178.0, -176.0, -168.0, -186.0, -188.0, -178.0, -172.0, -176.0, -184.0, -172.0, -182.0]\n"
     ]
    }
   ],
   "source": [
    "training_data = model_data_preparation()"
   ]
  },
  {
   "cell_type": "code",
   "execution_count": 10,
   "metadata": {},
   "outputs": [],
   "source": [
    "def build_model(input_size, output_size):\n",
    "        model = Sequential()\n",
    "        model.add(Dense(128, input_dim=input_size, activation='relu'))\n",
    "        model.add(Dense(64, activation='relu'))\n",
    "        model.add(Dense(output_size, activation='linear'))\n",
    "        model.compile(loss='mse', optimizer=Adam())\n",
    "\n",
    "        return model"
   ]
  },
  {
   "cell_type": "code",
   "execution_count": 11,
   "metadata": {},
   "outputs": [],
   "source": [
    "def train_model(training_data):\n",
    "    X = np.array([i[0] for i in training_data]).reshape(-1, len(training_data[0][0]))\n",
    "    y = np.array([i[1] for i in training_data]).reshape(-1, len(training_data[0][1]))\n",
    "    model = build_model(input_size=len(X[0]), output_size=len(y[0]))\n",
    "    \n",
    "    model.fit(X, y, epochs=3)\n",
    "    return model"
   ]
  },
  {
   "cell_type": "code",
   "execution_count": 12,
   "metadata": {},
   "outputs": [
    {
     "name": "stdout",
     "output_type": "stream",
     "text": [
      "Epoch 1/3\n",
      "44178/44178 [==============================] - 2s 48us/step - loss: 0.2231\n",
      "Epoch 2/3\n",
      "44178/44178 [==============================] - 2s 50us/step - loss: 0.2210\n",
      "Epoch 3/3\n",
      "44178/44178 [==============================] - 2s 49us/step - loss: 0.2208\n"
     ]
    }
   ],
   "source": [
    "\n",
    "trained_model = train_model(training_data)"
   ]
  },
  {
   "cell_type": "code",
   "execution_count": 13,
   "metadata": {},
   "outputs": [],
   "source": [
    "model_json = trained_model.to_json()\n",
    "# Записываем модель в файл\n",
    "json_file = open(\"model_AIGame_MC_v2.json\", \"w\")\n",
    "json_file.write(model_json)\n",
    "json_file.close()\n",
    "trained_model.save_weights(\"model_AIGame_MC_v2.h5\")"
   ]
  },
  {
   "cell_type": "code",
   "execution_count": 15,
   "metadata": {},
   "outputs": [
    {
     "name": "stdout",
     "output_type": "stream",
     "text": [
      "[-164.0, -92.0, -162.0, -87.0, -173.0, -167.0, -117.0, -98.0, -173.0, -168.0, -96.0, -165.0, -105.0, -91.0, -91.0, -164.0, -90.0, -101.0, -164.0, -95.0, -168.0, -164.0, -106.0, -162.0, -169.0, -164.0, -167.0, -164.0, -200.0, -170.0, -115.0, -163.0, -184.0, -185.0, -105.0, -162.0, -165.0, -112.0, -181.0, -95.0, -129.0, -165.0, -163.0, -175.0, -167.0, -176.0, -98.0, -109.0, -88.0, -164.0, -106.0, -96.0, -162.0, -100.0, -92.0, -167.0, -162.0, -88.0, -200.0, -102.0, -164.0, -185.0, -89.0, -167.0, -108.0, -162.0, -111.0, -170.0, -92.0, -171.0, -164.0, -104.0, -162.0, -186.0, -170.0, -164.0, -179.0, -89.0, -176.0, -164.0, -169.0, -168.0, -192.0, -183.0, -88.0, -163.0, -168.0, -166.0, -89.0, -96.0, -92.0, -104.0, -164.0, -87.0, -195.0, -91.0, -87.0, -119.0, -164.0, -185.0]\n",
      "Average Score: -141.2\n",
      "choice 1:0.032577903682719546  choice 0:0.4296742209631728 choice 2:0.5377478753541076\n"
     ]
    }
   ],
   "source": [
    "scores = []\n",
    "choices = []\n",
    "for each_game in range(100):\n",
    "    score = 0\n",
    "    prev_obs = []\n",
    "    for step_index in range(goal_steps):\n",
    "        # Uncomment this line if you want to see how our bot playing\n",
    "        env.render()\n",
    "        if len(prev_obs)==0:\n",
    "            action = random.randrange(0,2)\n",
    "        else:\n",
    "            action = np.argmax(trained_model.predict(prev_obs.reshape(-1, len(prev_obs)))[0])\n",
    "        \n",
    "        choices.append(action)\n",
    "        new_observation, reward, done, info = env.step(action)\n",
    "        prev_obs = new_observation\n",
    "        score+=reward\n",
    "        if done:\n",
    "            break\n",
    "\n",
    "    env.reset()\n",
    "    scores.append(score)\n",
    "\n",
    "print(scores)\n",
    "print('Average Score:',sum(scores)/len(scores))\n",
    "print('choice 1:{}  choice 0:{} choice 2:{}'.format(choices.count(1)/len(choices),choices.count(0)/len(choices),choices.count(2)/len(choices)))"
   ]
  },
  {
   "cell_type": "code",
   "execution_count": null,
   "metadata": {},
   "outputs": [],
   "source": []
  },
  {
   "cell_type": "code",
   "execution_count": null,
   "metadata": {},
   "outputs": [],
   "source": []
  }
 ],
 "metadata": {
  "kernelspec": {
   "display_name": "Python 3",
   "language": "python",
   "name": "python3"
  },
  "language_info": {
   "codemirror_mode": {
    "name": "ipython",
    "version": 3
   },
   "file_extension": ".py",
   "mimetype": "text/x-python",
   "name": "python",
   "nbconvert_exporter": "python",
   "pygments_lexer": "ipython3",
   "version": "3.6.8"
  }
 },
 "nbformat": 4,
 "nbformat_minor": 2
}
