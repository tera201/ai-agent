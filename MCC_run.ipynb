{
 "cells": [
  {
   "cell_type": "code",
   "execution_count": 5,
   "metadata": {},
   "outputs": [],
   "source": [
    "import gym\n",
    "import random\n",
    "from keras.models import model_from_json\n",
    "import numpy as np\n",
    "from keras.models     import Sequential\n",
    "from keras.layers     import Dense\n",
    "from keras.optimizers import Adam"
   ]
  },
  {
   "cell_type": "code",
   "execution_count": 2,
   "metadata": {},
   "outputs": [],
   "source": [
    "json_file = open(\"model_AIGame_MCC_v5.json\", \"r\")\n",
    "loaded_model_json = json_file.read()\n",
    "json_file.close()\n",
    "loaded_model = model_from_json(loaded_model_json)\n",
    "loaded_model.load_weights(\"model_AIGame_MCC_v5.h5\")\n",
    "\n",
    "loaded_model.compile(loss='mse',\n",
    "                     optimizer=Adam())"
   ]
  },
  {
   "cell_type": "code",
   "execution_count": 3,
   "metadata": {},
   "outputs": [],
   "source": [
    "env = gym.make('MountainCarContinuous-v0')\n",
    "env.reset()\n",
    "goal_steps = 1000"
   ]
  },
  {
   "cell_type": "code",
   "execution_count": 6,
   "metadata": {},
   "outputs": [
    {
     "name": "stdout",
     "output_type": "stream",
     "text": [
      "[91.80000000000001, 92.00000000000001, 91.90000000000002, 92.00000000000001, 92.00000000000001, 91.70000000000002, 91.70000000000002, 91.80000000000001, 91.90000000000002, 91.80000000000001, 91.80000000000001, 91.80000000000001, 91.40000000000002, 91.90000000000002, 91.80000000000001, 91.80000000000001, 91.70000000000002, 91.80000000000001, 91.90000000000002, 91.70000000000002, 91.60000000000002, 91.80000000000001, 91.90000000000002, 91.90000000000002, 91.80000000000001, 91.80000000000001, 91.90000000000002, 91.80000000000001, 91.90000000000002, 91.90000000000002, 91.80000000000001, 91.90000000000002, 91.90000000000002, 91.30000000000003, 92.00000000000001, 92.10000000000002, 92.00000000000001, 91.80000000000001, 91.90000000000002, 92.00000000000001, 91.70000000000002, 91.80000000000001, 92.00000000000001, 92.00000000000001, 92.00000000000001, 91.80000000000001, 92.00000000000001, 91.80000000000001, 91.60000000000002, 91.80000000000001, 91.70000000000002, 91.90000000000002, 91.60000000000002, 91.90000000000002, 92.00000000000001, 92.00000000000001, 91.70000000000002, 91.60000000000002, 91.90000000000002, 91.80000000000001, 92.00000000000001, 92.00000000000001, 92.00000000000001, 92.00000000000001, 91.80000000000001, 92.10000000000002, 91.70000000000002, 91.50000000000001, 91.90000000000002, 91.60000000000002, 92.00000000000001, 92.00000000000001, 91.90000000000002, 92.00000000000001, 92.00000000000001, 91.90000000000002, 91.70000000000002, 91.90000000000002, 91.70000000000002, 91.50000000000001, 92.00000000000001, 92.00000000000001, 91.70000000000002, 92.00000000000001, 91.90000000000002, 92.00000000000001, 91.90000000000002, 92.00000000000001, 92.00000000000001, 91.30000000000003, 91.90000000000002, 91.90000000000002, 91.90000000000002, 91.90000000000002, 91.70000000000002, 92.00000000000001, 91.90000000000002, 92.20000000000002, 91.70000000000002, 91.30000000000003]\n",
      "Average Score: 91.84199999999998\n"
     ]
    }
   ],
   "source": [
    "scores = []\n",
    "for each_game in range(100):\n",
    "    score = 0\n",
    "    prev_obs = []\n",
    "    action = []\n",
    "    action.append(1)\n",
    "    for step_index in range(goal_steps):\n",
    "        # Uncomment this line if you want to see how our bot playing\n",
    "        #env.render()\n",
    "        if len(prev_obs)==0:\n",
    "            action[0] = random.randrange(-1,1)\n",
    "        else:\n",
    "            action[0] = -1 +np.argmax(loaded_model.predict(prev_obs.reshape(-1, len(prev_obs)))[0])\n",
    "\n",
    "        new_observation, reward, done, info = env.step(action)\n",
    "        prev_obs = new_observation\n",
    "        score += reward\n",
    "        if done:\n",
    "            break\n",
    "\n",
    "    env.reset()\n",
    "    scores.append(score)\n",
    "\n",
    "print(scores)\n",
    "print('Average Score:',sum(scores)/len(scores))"
   ]
  },
  {
   "cell_type": "code",
   "execution_count": null,
   "metadata": {},
   "outputs": [],
   "source": []
  }
 ],
 "metadata": {
  "kernelspec": {
   "display_name": "Python 3",
   "language": "python",
   "name": "python3"
  },
  "language_info": {
   "codemirror_mode": {
    "name": "ipython",
    "version": 3
   },
   "file_extension": ".py",
   "mimetype": "text/x-python",
   "name": "python",
   "nbconvert_exporter": "python",
   "pygments_lexer": "ipython3",
   "version": "3.6.8"
  }
 },
 "nbformat": 4,
 "nbformat_minor": 2
}
