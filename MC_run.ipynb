{
 "cells": [
  {
   "cell_type": "code",
   "execution_count": 5,
   "metadata": {},
   "outputs": [],
   "source": [
    "import gym\n",
    "import random\n",
    "from keras.models import model_from_json\n",
    "import numpy as np\n",
    "from keras.models     import Sequential\n",
    "from keras.layers     import Dense\n",
    "from keras.optimizers import Adam"
   ]
  },
  {
   "cell_type": "code",
   "execution_count": 2,
   "metadata": {},
   "outputs": [],
   "source": [
    "json_file = open(\"model_AIGame_MC_v1.json\", \"r\")\n",
    "loaded_model_json = json_file.read()\n",
    "json_file.close()\n",
    "loaded_model = model_from_json(loaded_model_json)\n",
    "loaded_model.load_weights(\"model_AIGame_MC_v1.h5\")\n",
    "\n",
    "loaded_model.compile(loss='mse',\n",
    "                     optimizer=Adam())"
   ]
  },
  {
   "cell_type": "code",
   "execution_count": 3,
   "metadata": {},
   "outputs": [],
   "source": [
    "env = gym.make('MountainCar-v0')\n",
    "env.reset()\n",
    "goal_steps = 200"
   ]
  },
  {
   "cell_type": "code",
   "execution_count": 4,
   "metadata": {},
   "outputs": [
    {
     "name": "stdout",
     "output_type": "stream",
     "text": [
      "[-85.0, -128.0, -121.0, -121.0, -85.0, -120.0, -118.0, -130.0, -118.0, -119.0, -118.0, -121.0, -118.0, -130.0, -119.0, -85.0, -85.0, -119.0, -123.0, -130.0, -118.0, -200.0, -118.0, -121.0, -119.0, -118.0, -119.0, -129.0, -130.0, -126.0, -118.0, -119.0, -121.0, -119.0, -120.0, -84.0, -121.0, -125.0, -119.0, -86.0, -121.0, -127.0, -119.0, -118.0, -118.0, -121.0, -117.0, -118.0, -120.0, -125.0, -123.0, -118.0, -127.0, -118.0, -117.0, -124.0, -122.0, -119.0, -118.0, -118.0, -126.0, -118.0, -123.0, -120.0, -121.0, -117.0, -85.0, -118.0, -119.0, -119.0, -121.0, -118.0, -130.0, -121.0, -118.0, -119.0, -119.0, -119.0, -117.0, -119.0, -120.0, -119.0, -119.0, -122.0, -123.0, -125.0, -119.0, -120.0, -136.0, -119.0, -123.0, -121.0, -120.0, -118.0, -123.0, -128.0, -118.0, -120.0, -119.0, -136.0]\n",
      "Average Score: -119.46\n"
     ]
    }
   ],
   "source": [
    "scores = []\n",
    "for each_game in range(100):\n",
    "    score = 0\n",
    "    prev_obs = []\n",
    "    for step_index in range(goal_steps):\n",
    "        # Uncomment this line if you want to see how our bot playing\n",
    "        #env.render()\n",
    "        if len(prev_obs)==0:\n",
    "            action = random.randrange(0,2)\n",
    "        else:\n",
    "            action = np.argmax(loaded_model.predict(prev_obs.reshape(-1, len(prev_obs)))[0])\n",
    "\n",
    "        new_observation, reward, done, info = env.step(action)\n",
    "        prev_obs = new_observation\n",
    "        score += reward\n",
    "        if done:\n",
    "            break\n",
    "\n",
    "    env.reset()\n",
    "    scores.append(score)\n",
    "\n",
    "print(scores)\n",
    "print('Average Score:',sum(scores)/len(scores))"
   ]
  },
  {
   "cell_type": "code",
   "execution_count": null,
   "metadata": {},
   "outputs": [],
   "source": []
  }
 ],
 "metadata": {
  "kernelspec": {
   "display_name": "Python 3",
   "language": "python",
   "name": "python3"
  },
  "language_info": {
   "codemirror_mode": {
    "name": "ipython",
    "version": 3
   },
   "file_extension": ".py",
   "mimetype": "text/x-python",
   "name": "python",
   "nbconvert_exporter": "python",
   "pygments_lexer": "ipython3",
   "version": "3.6.8"
  }
 },
 "nbformat": 4,
 "nbformat_minor": 2
}
